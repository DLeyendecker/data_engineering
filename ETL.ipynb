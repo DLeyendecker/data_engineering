{
 "cells": [
  {
   "cell_type": "code",
   "execution_count": 39,
   "id": "25a34f15",
   "metadata": {},
   "outputs": [],
   "source": [
    "#Importando as Bibliotecas\n",
    "import pandas as pd"
   ]
  },
  {
   "cell_type": "code",
   "execution_count": 40,
   "id": "df412d0b",
   "metadata": {
    "scrolled": true
   },
   "outputs": [],
   "source": [
    "\n",
    "def read_files(path,name_file, year_date, type_file):\n",
    "    \n",
    "    _file = f'{path}{name_file}{year_date}.{type_file}'\n",
    "    \n",
    "    colspecs = [(2,10),\n",
    "                (10,12),\n",
    "                (12,24),\n",
    "                (27,39),\n",
    "                (56,69),\n",
    "                (69,82),\n",
    "                (82,95),\n",
    "                (108,121),\n",
    "                (152,170),\n",
    "                (170,188)\n",
    "    ]\n",
    "\n",
    "    names = ['data_pregao','codbdi','sigla_acao','nome_acao','preco_abertura','preco_maximo','preco_minimo','preco_fechamento','qtd_negocios','volume_negocios']\n",
    "\n",
    "    df = pd.read_fwf(_file, colspecs = colspecs, names = names, skiprows = 1)\n",
    "    \n",
    "    return df\n"
   ]
  },
  {
   "cell_type": "code",
   "execution_count": 41,
   "id": "72547b3d",
   "metadata": {},
   "outputs": [],
   "source": [
    "#Filtrar Ações\n",
    "\n",
    "def filter_stoks(df):\n",
    "    df = df [df['codbdi']==2]\n",
    "    df = df.drop(['codbdi'],1)\n",
    "    \n",
    "    return df\n"
   ]
  },
  {
   "cell_type": "code",
   "execution_count": 42,
   "id": "0b70d7be",
   "metadata": {},
   "outputs": [],
   "source": [
    "#Ajuste campo de data\n",
    "\n",
    "def parse_date(df):\n",
    "    df['data_pregao'] = pd.to_datetime(df['data_pregao'], format = '%Y%m%d')\n",
    "    return df"
   ]
  },
  {
   "cell_type": "code",
   "execution_count": 43,
   "id": "0855d6c8",
   "metadata": {},
   "outputs": [],
   "source": [
    "#Ajuste dos campos numéricos\n",
    "\n",
    "def parse_values(df):\n",
    "\n",
    "    df['preco_abertura'] = (df['preco_abertura'] / 100).astype(float)\n",
    "    df['preco_maximo'] = (df['preco_maximo'] / 100).astype(float)\n",
    "    df['preco_minimo'] = (df['preco_minimo'] / 100).astype(float)\n",
    "    df['preco_fechamento'] = (df['preco_fechamento'] / 100).astype(float)\n",
    "    df['qtd_negocios'] = (df['qtd_negocios']).astype(int)\n",
    "    df['volume_negocios'] = (df['volume_negocios']).astype(int)\n",
    "    \n",
    "    return df\n"
   ]
  },
  {
   "cell_type": "code",
   "execution_count": 44,
   "id": "a66f1762",
   "metadata": {},
   "outputs": [],
   "source": [
    "#Juntando os Arquivos\n",
    "\n",
    "def concat_files(path, name_file, year_date, type_file, final_file):\n",
    "    \n",
    "    for i , y in enumerate(year_date):\n",
    "        df = read_files(path, name_file, y, type_file)\n",
    "        df = filter_stoks(df)\n",
    "        df = parse_date(df)\n",
    "        df = parse_values(df)\n",
    "        \n",
    "        if i==0:\n",
    "            df_final = df\n",
    "        else:\n",
    "            df_final =pd.concat([df_final, df])\n",
    "            \n",
    "        df_final.to_csv(f'{path}//{final_file}', index = False)\n"
   ]
  },
  {
   "cell_type": "code",
   "execution_count": 45,
   "id": "ef5b8452",
   "metadata": {},
   "outputs": [
    {
     "name": "stderr",
     "output_type": "stream",
     "text": [
      "C:\\Users\\dleye\\AppData\\Local\\Temp\\ipykernel_8932\\929852010.py:5: FutureWarning: In a future version of pandas all arguments of DataFrame.drop except for the argument 'labels' will be keyword-only.\n",
      "  df = df.drop(['codbdi'],1)\n",
      "C:\\Users\\dleye\\AppData\\Local\\Temp\\ipykernel_8932\\929852010.py:5: FutureWarning: In a future version of pandas all arguments of DataFrame.drop except for the argument 'labels' will be keyword-only.\n",
      "  df = df.drop(['codbdi'],1)\n",
      "C:\\Users\\dleye\\AppData\\Local\\Temp\\ipykernel_8932\\929852010.py:5: FutureWarning: In a future version of pandas all arguments of DataFrame.drop except for the argument 'labels' will be keyword-only.\n",
      "  df = df.drop(['codbdi'],1)\n"
     ]
    }
   ],
   "source": [
    "#Executando programa de ETL\n",
    "\n",
    "year_date = ['2020','2021','2022']\n",
    "\n",
    "path=f'C://Users//dleye//Documents//Programa_de_Manipulação_de_Dados//'\n",
    "\n",
    "name_file = 'COTAHIST_A'\n",
    "\n",
    "type_file = 'txt'\n",
    "\n",
    "final_file = 'all_bovespa.csv'\n",
    "\n",
    "concat_files(path, name_file, year_date,type_file, final_file)\n",
    "\n"
   ]
  },
  {
   "cell_type": "code",
   "execution_count": null,
   "id": "8f4f84da",
   "metadata": {},
   "outputs": [],
   "source": []
  }
 ],
 "metadata": {
  "kernelspec": {
   "display_name": "Python 3 (ipykernel)",
   "language": "python",
   "name": "python3"
  },
  "language_info": {
   "codemirror_mode": {
    "name": "ipython",
    "version": 3
   },
   "file_extension": ".py",
   "mimetype": "text/x-python",
   "name": "python",
   "nbconvert_exporter": "python",
   "pygments_lexer": "ipython3",
   "version": "3.9.13"
  }
 },
 "nbformat": 4,
 "nbformat_minor": 5
}
